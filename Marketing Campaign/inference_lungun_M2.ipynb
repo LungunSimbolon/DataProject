{
 "cells": [
  {
   "cell_type": "code",
   "execution_count": null,
   "metadata": {},
   "outputs": [],
   "source": [
    "import pickle\n",
    "import json\n",
    "import pandas as pd\n",
    "import numpy as np"
   ]
  },
  {
   "cell_type": "markdown",
   "metadata": {},
   "source": [
    "https://huggingface.co/spaces/LungunSimbolon/Milestone_2"
   ]
  },
  {
   "cell_type": "code",
   "execution_count": null,
   "metadata": {},
   "outputs": [],
   "source": [
    "# membuka model yang sudah dibuat\n",
    "with open('list_cat_cols.txt', 'r') as file_num_cols:\n",
    "  list_cat_col = json.load(file_num_cols)\n",
    "\n",
    "with open('list_num_cols.txt', 'r') as file_cat_cols:\n",
    "  list_num_col = json.load(file_cat_cols)\n",
    "\n",
    "with open('encoder.pkl', 'rb') as file_scaler:\n",
    "  model_encoder = pickle.load(file_scaler)\n",
    "\n",
    "with open('scaler.pkl', 'rb') as file_encoder:\n",
    "  model_scaler = pickle.load(file_encoder)\n",
    "\n",
    "with open('model_random_forest.pkl', 'rb') as file_model:\n",
    "  model_random_forest = pickle.load(file_model)"
   ]
  },
  {
   "cell_type": "code",
   "execution_count": null,
   "metadata": {},
   "outputs": [],
   "source": [
    "# Membuat dataframe baru\n",
    "dataInf = {\n",
    "    'ID': np.random.randint(1000, 12000, 10),\n",
    "    'Year_Birth': np.random.randint(1893, 2000, 10),\n",
    "    'Education': [random.choice(['Graduation', 'PhD', 'Master', 'Basic', '2n Cycle']) for _ in range(10)],\n",
    "    'Marital_Status': [random.choice(['Single', 'Together', 'Married', 'Divorced', 'Widow', 'Alone']) for _ in range(10)],\n",
    "    'Income': np.random.randint(1000, 666666, 10),\n",
    "    'Kidhome': np.random.randint(0, 2, 10),\n",
    "    'Teenhome': np.random.randint(0, 2, 10), \n",
    "    'Dt_Customer': [f\"{np.random.randint(1, 13):02d}/{np.random.randint(1, 32):02d}/{np.random.randint(1900, 2024)}\" for _ in range(10)],\n",
    "    'Recency': np.random.randint(0, 99, 10),\n",
    "    'MntWines': np.random.randint(0, 1493, 10),\n",
    "    'MntFruits': np.random.randint(0, 199, 10),\n",
    "    'MntMeatProducts': np.random.randint(0, 1725, 10),\n",
    "    'MntFishProducts': np.random.randint(0, 259, 10), \n",
    "    'MntSweetProducts': np.random.randint(0, 263, 10),\n",
    "    'MntGoldProds': np.random.randint(0, 362, 10),\n",
    "    'NumDealsPurchases': np.random.randint(0, 15, 10),\n",
    "    'NumWebPurchases': np.random.randint(0, 27, 10),\n",
    "    'NumCatalogPurchases': np.random.randint(0, 28, 10),\n",
    "    'NumStorePurchases': np.random.randint(0, 13, 10),\n",
    "    'NumWebVisitsMonth': np.random.randint(0, 20, 10),\n",
    "    'AcceptedCmp3': np.random.randint(0, 2, 10),\n",
    "    'AcceptedCmp4': np.random.randint(0, 2, 10),\n",
    "    'AcceptedCmp5': np.random.randint(0, 2, 10), \n",
    "    'AcceptedCmp1': np.random.randint(0, 2, 10), \n",
    "    'AcceptedCmp2': np.random.randint(0, 2, 10), \n",
    "    'Complain': np.random.randint(0, 2, 10),\n",
    "    'Z_CostContact': 3,\n",
    "    'Z_Revenue': 11,\n",
    "}\n",
    "\n",
    "dataInf = pd.DataFrame(dataInf)\n",
    "dataInf\n"
   ]
  },
  {
   "cell_type": "code",
   "execution_count": null,
   "metadata": {},
   "outputs": [],
   "source": [
    "# melakukan split kategorikal dan numerical\n",
    "data_inf_cat = dataInf[list_cat_col]\n",
    "data_inf_num = dataInf[list_num_col]\n",
    "data_inf_cat"
   ]
  },
  {
   "cell_type": "code",
   "execution_count": null,
   "metadata": {},
   "outputs": [],
   "source": [
    "# feature scaling\n",
    "data_inf_num_scaled = model_scaler.transform(data_inf_num)\n",
    "data_inf_cat_encoded = model_encoder.transform(data_inf_cat)\n",
    "data_inf_final = np.concatenate([data_inf_num_scaled, data_inf_cat_encoded], axis = 1)"
   ]
  },
  {
   "cell_type": "code",
   "execution_count": null,
   "metadata": {},
   "outputs": [],
   "source": [
    "# melakukan predict\n",
    "y_pred_inf = model_random_forest.predict(data_inf_final)\n",
    "y_pred_inf"
   ]
  },
  {
   "cell_type": "code",
   "execution_count": null,
   "metadata": {},
   "outputs": [],
   "source": [
    "# menambahkan data prediction ke dataframe\n",
    "dataInf['prediction'] = y_pred_inf\n",
    "dataInf"
   ]
  }
 ],
 "metadata": {
  "kernelspec": {
   "display_name": "base",
   "language": "python",
   "name": "python3"
  },
  "language_info": {
   "codemirror_mode": {
    "name": "ipython",
    "version": 3
   },
   "file_extension": ".py",
   "mimetype": "text/x-python",
   "name": "python",
   "nbconvert_exporter": "python",
   "pygments_lexer": "ipython3",
   "version": "3.9.18"
  }
 },
 "nbformat": 4,
 "nbformat_minor": 2
}
